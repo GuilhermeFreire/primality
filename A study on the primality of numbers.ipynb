{
 "cells": [
  {
   "cell_type": "markdown",
   "metadata": {},
   "source": [
    "# A study on the primality of numbers\n",
    "\n",
    "## What are prime numbers?\n",
    "\n",
    "A prime number can be defined as a number that is divisible by exactly two numbers, 1 and itself.\n",
    "Seems like a pretty straight forward definition. A list of the initial ones is given by:\n",
    "\n",
    "$$\n",
    "    2, 3, 5, 7, 11, 13, 17, 19, 21, \\cdots\n",
    "$$\n",
    "\n",
    "There is a whole section of math devoted to the study of the properties of those numbers, their periodicity, their relations to other mathematical objects, etc... However, in this study, I'd like to play with the very definition of primality."
   ]
  },
  {
   "cell_type": "markdown",
   "metadata": {},
   "source": [
    "When thinking about the defition of primality, we can break it further from the original sentence into smaller pieces.\n",
    "\n",
    "#### Standard definition:\n",
    "$$\n",
    "    p \\text{ is prime if there are exactly two divisors of } p\\text{, 1 and itself.}\n",
    "$$\n",
    "\n",
    "Reading such description, one might wonder: but what does it mean to be a divisor of a number? that can be answered simply by saying that _a is divisible by b if the division of a by b has remainder 0_.\n",
    "Or more formally:\n",
    "$$\n",
    "    a \\bmod{b} = 0 \\Rightarrow a \\text{ is divisible by } b\n",
    "$$\n",
    "\n",
    "So essentialy, divisibility is defined by the remainder of a divison.\n",
    "\n",
    "The next part of the breakdown is the \"exactly two\" part. This part is actually what defines the next one: \"1 and itself\". Since $n \\bmod{1} = 0$ for every $n$, then $1$ is always a divisor of any number. Likewise $n \\bmod{n} = 0$ for every value of $n$ as well. Which implies that $n$ is also always a divisor of $n$.\n",
    "\n",
    "So both $1$ and $n$ always divide $n$. Therefore, when we imply the restriction of only two divisors, it **has** to be $1$ and $n$. Since asking for there to be only two divisors directly implicates on them being $1$ and $n$, we don't need to add that as part of the definition.\n",
    "\n",
    "Side note: In the case of asking if $1$ is prime with our \"relaxed defition\", the answer is **no** since it has only one divisor (even though with multiplicity greater than one)."
   ]
  },
  {
   "cell_type": "markdown",
   "metadata": {},
   "source": [
    "This leaves us with two variables to play with.\n",
    "\n",
    "The first is the value of the remainder in the definition of _divisor_. It doesn't necessarily have to be 0. We could define an arbitrary value $r$ to it. We can call this \"r-divisible\".\n",
    "#### Definition of r divisibility:\n",
    "$$\n",
    "    a \\bmod{b} = r \\Rightarrow a \\text{ is } r \\text{-divisible by } b\n",
    "$$\n",
    "\n",
    "The second is the quantity of divisors. We can also vary this amount to see what happens.\n",
    "\n",
    "Therefore with these new variables in mind, our new definition for primality is given by the following.\n",
    "\n",
    "#### New definition of primality:\n",
    "$$\n",
    "    p \\text{ is prime if there are exactly } d \\hspace{3 pt} r\\text{-divisors of } p\n",
    "$$\n",
    "\n",
    "Now let's see where this new definition leads us."
   ]
  },
  {
   "cell_type": "markdown",
   "metadata": {},
   "source": [
    "We can start simply by listing the new prime numbers under different conditions."
   ]
  },
  {
   "cell_type": "code",
   "execution_count": 1,
   "metadata": {
    "collapsed": true
   },
   "outputs": [],
   "source": [
    "import numpy as np\n",
    "import matplotlib.pyplot as plt"
   ]
  },
  {
   "cell_type": "code",
   "execution_count": 2,
   "metadata": {
    "collapsed": true
   },
   "outputs": [],
   "source": [
    "def is_prime(num, r, d):\n",
    "    count = 0\n",
    "    for i in range(1, num+1):\n",
    "        if num%i == r:\n",
    "            count += 1\n",
    "    if count == d:\n",
    "        return True\n",
    "    else:\n",
    "        return False\n",
    "    \n",
    "def p(r, d, lower=0, upper=101):\n",
    "    numbers = np.arange(lower, upper)\n",
    "    return numbers[list(map(lambda x: is_prime(x, r, d), numbers))]"
   ]
  },
  {
   "cell_type": "code",
   "execution_count": 3,
   "metadata": {},
   "outputs": [
    {
     "name": "stdout",
     "output_type": "stream",
     "text": [
      "p0_2 (Length = 25):\n",
      "[ 2  3  5  7 11 13 17 19 23 29 31 37 41 43 47 53 59 61 67 71 73 79 83 89 97]\n",
      "p1_1(Length = 25):\n",
      "[ 3  4  6  8 12 14 18 20 24 30 32 38 42 44 48 54 60 62 68 72 74 80 84 90 98]\n",
      "p2_1(Length = 25):\n",
      "[ 5  6  7  9 13 15 19 21 25 31 33 39 43 45 49 55 61 63 69 73 75 81 85 91 99]\n",
      "p3_1(Length = 26):\n",
      "[  7   8   9  10  12  14  16  20  22  26  32  34  40  44  46  50  56  62\n",
      "  64  70  74  76  82  86  92 100]\n"
     ]
    }
   ],
   "source": [
    "p0_2 = p(0, 2) # Normal definition of primes\n",
    "p1_1 = p(1, 1)\n",
    "p2_1 = p(2, 1)\n",
    "p3_1 = p(3, 1)\n",
    "print(\"p0_2 (Length = {}):\\n{}\".format(len(p0_2), p0_2))\n",
    "print(\"p1_1(Length = {}):\\n{}\".format(len(p1_1), p1_1))\n",
    "print(\"p2_1(Length = {}):\\n{}\".format(len(p2_1), p2_1))\n",
    "print(\"p3_1(Length = {}):\\n{}\".format(len(p3_1), p3_1))"
   ]
  },
  {
   "cell_type": "code",
   "execution_count": 4,
   "metadata": {},
   "outputs": [
    {
     "data": {
      "image/png": "[encoded data removed]",
      "text/plain": [
       "<matplotlib.figure.Figure at 0x7f60dcacc780>"
      ]
     },
     "metadata": {},
     "output_type": "display_data"
    }
   ],
   "source": [
    "plt.scatter(p0_2, [0]*len(p0_2))\n",
    "plt.scatter(p1_1, [1]*len(p1_1))\n",
    "plt.scatter(p2_1, [2]*len(p2_1))\n",
    "plt.scatter(p3_1, [3]*len(p3_1))\n",
    "\n",
    "plt.show()"
   ]
  }
 ],
 "metadata": {
  "kernelspec": {
   "display_name": "Python 3",
   "language": "python",
   "name": "python3"
  },
  "language_info": {
   "codemirror_mode": {
    "name": "ipython",
    "version": 3
   },
   "file_extension": ".py",
   "mimetype": "text/x-python",
   "name": "python",
   "nbconvert_exporter": "python",
   "pygments_lexer": "ipython3",
   "version": "3.5.4"
  }
 },
 "nbformat": 4,
 "nbformat_minor": 2
}
